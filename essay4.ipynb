{
 "cells": [
  {
   "cell_type": "markdown",
   "metadata": {},
   "source": [
    "# Spanish 81: Ensayo 4\n",
    "Para este proyecto, estoy analizando dos libros de cocina por Simone K. Ortega: *Nuevas Recetas de Cocina (1984)* y *1080 Recetas de Cocina, Alianza Editorial (1998)*. Quise estudiar el costo promedio de los ingredientes en una manera cuantitativa usando el apéndice de cada libro para estimar la cantidad y el tipo de ingredientes en ambos libros. Usé el sitio web de Carrefour, un supermercado españolo, para encontrar un precio por ingredientes. La manera en que hice esta analisis esta fue:\n",
    "- captura y itemiza los elementos del apéndice de cada libro y cuéntalos\n",
    "- encontra el precio por cada elemento de cada libro\n",
    "- multiplica el precio por la frequencia por cada elemento y sumar cada entrada por cada libro. Las sumas resultantes representan una estimación del costo promedio.\n"
   ]
  },
  {
   "cell_type": "markdown",
   "metadata": {},
   "source": [
    "## Itemiza el apendice"
   ]
  },
  {
   "cell_type": "code",
   "execution_count": 1,
   "metadata": {},
   "outputs": [],
   "source": [
    "# imports\n",
    "import re\n",
    "import numpy as np\n",
    "from selenium import webdriver\n",
    "from selenium.webdriver.common.by import By\n",
    "from selenium.webdriver.chrome.options import Options\n",
    "from selenium.webdriver.common.keys import Keys\n",
    "from selenium.webdriver.support.ui import WebDriverWait\n",
    "from selenium.webdriver.support import expected_conditions as EC\n",
    "from bs4 import BeautifulSoup\n",
    "import time\n",
    "import random"
   ]
  },
  {
   "cell_type": "code",
   "execution_count": 2,
   "metadata": {},
   "outputs": [
    {
     "name": "stdout",
     "output_type": "stream",
     "text": [
      "['galletas', 'para', 'paletilla', 'flamenca', 'otra', 'fideos', 'mariscos', 'pepinos', 'gur', 'kiwis', 'picada', 'calvados', 'cebollas', 'bu', 'espada', 'tona', 'cuartos', 'pescado', 'candy', 'sal', 'trufas', 'del', 'adobados', 'hervido', 'sopa', 'nabos', 'caldeirada', 'canela', 'alitas', 'boquerones', 'manzanas', 'crema', 'gambas', 'congelado', 'horchata', 'guisado', 'escabechadas', 'guisadas', 'rollitos', 'so', 'h', 'pasas', 'frescos', 'rehogado', 'rollo', 'tarta', 'pimienta', 'zanahorias', 'picante', 'cocido', 'frambuesas', 'pizza', 'verdes', 'rece', 'estofadas', 'revueltos', 'cubrir', 'ahumada', 'historiadas', 'pollitos', 'merengues', 'aguacate', 'andaluza', 'aleta', 'cocer', 'cebolla', 'agua', 'natillas', 'milanesa', 'queso', 'vinagre', 'champagne', 'ta', 'perdices', 'relleno', 'yemas', 'jugo', 'quesitos', 'acelgas', 'ter', 'madeira', 'salado', 'leche', 'espinacas', 'sin', 'coliflor', 'aceitunas', 'toma', 'mayonesa', 'pere', 'variadas', 'pintas', 'pet', 'aleman', 'patatas', 'cabello', 'magdalenas', 'cintas', 'escalibada', 'alcaparras', 'fideua', 'dientes', 'rosas', 'rosejat', 'gratinadas', 'picadas', 'puntas', 'vieiras', 'pechugas', 'cazuela', 'cocidas', 'carabineros', 'tortilitas', 'dulce', 'yogur', 'menta', 'chorizo', 'miel', 'almendra', 'wiskhy', 'borracha', 'bizcocho', 'es', 'risotto', 'canutillos', 'gratinado', 'cake', 'rragos', 'almendras', 'changurro', 'pasta', 'chantilly', 'gallo', 'canelones', 'adobo', 'moraga', 'ave', 'merengue', 'hojaldres', 'babilla', 'pachugas', 'agridulce', 'langosta', 'lata', 'filetes', 'brandada', 'ajo', 'cha', 'chuletitas', 'envueltas', 'quesada', 'guisantes', 'anchoas', 'repollo', 'verduras', 'alcachofas', 'fondo', 'sardinas', 'condensada', 'tinto', 'ligero', 'fritos', 'borrachas', 'montada', 'arriero', 'champifiones', 'hojaldre', 'ragout', 'que', 'tostadas', 'griega', 'paterrina', 'aguardiente', 'anises', 'guiso', 'mermelada', 'manchego', 'coco', 'calamares', 'molde', 'piperada', 'silvestre', 'higaditos', 'chuletas', 'carne', 'ra', 'burgos', 'espuma', 'carnes', 'rape', 'pierna', 'nueces', 'pol', 'caliente', 'murciana', 'tocino', 'empanada', 'toledana', 'perejil', 'bacalao', 'rocas', 'terrina', 'pastel', 'calientes', 'vino', 'steak', 'san', 'remolacha', 'rellena', 'merengada', 'nuevas', 'hinojo', 'pepino', 'cachofas', 'quisquillas', 'negras', 'mollejas', 'postre', 'te', 'historiada', 'receta', 'pobre', 'j', 'estilo', 'berenjenas', 'rrano', 'escabeche', 'mousse', 'tapenade', 'fondos', 'bavariose', 'jerez', 'fabes', 'tinta', 'suquet', 'morcillas', 'chocolate', 'tipo', 'conejo', 'cordero', 'abadejo', 'cazador', 'gallina', 'mostaza', 'mientos', 'cup', 'coditos', 'varias', 'cardos', 'pimientos', 'asado', 'rebozadas', 'chirlas', 'rollos', 'tatin', 'purrusalda', 'soletillas', 'amarilla', 'apios', 'dorada', 'aguacates', 'calella', 'almejas', 'cremas', 'limones', 'langostinos', 'yema', 'cebolletas', 'cocktail', 'salsa', 'masa', 'albaricoque', 'ajos', 'escalopines', 'filloas', 'sequillas', 'chufas', 'truchas', 'horno', 'nas', 'gazpachuelo', 'merluza', 'asalmonadas', 'rodajas', 'pue', 'ron', 'aperitivos', 'negro', 'pescadores', 'salada', 'macarrones', 'caviar', 'bonito', 'sidra', 'gelatina', 'cerdo', 'sebollas', 'reves', 'puerros', 'rodaballo', 'cogollos', 'suspiros', 'los', 'rros', 'habichuelas', 'flanecitos', 'hecha', 'he', 'ternera', 'frutas', 'gazpacho', 'tomateros', 'pollo', 'encarnadas', 'guisada', 'congelados', 'ensalada', 'magras', 'salteados', 'moussaka', 'manza', 'vinagreta', 'lomo', 'gallega', 'croquetas', 'rosquillas', 'rojo', 'chamrellenos', 'zumo', 'curry', 'quesos', 'tomates', 'rellenos', 'pimiento', 'allada', 'sorbete', 'mar', 'mazapanes', 'cumberland', 'francisco', 'salsas', 'patata', 'plumcake', 'tomate', 'manera', 'helado', 'centollo', 'picadillos', 'pan', 'cebollitas', 'cerveza', 'lenguados', 'minuto', 'salchichas', 'menestra', 'naranjas', 'lechuga', 'limpias', 'rallado', 'pisto', 'bechamel', 'anguila', 'cinta', 'pichones', 'n', 'romescu', 'angel', 'pudin', 'quiche', 'roquefort', 'caracoles', 'spaghettis', 'habas', 'cangrejos', 'blancas', 'pizzas', 'arroz', 'garbanzos', 'asadas', 'lo', 'gratinada', 'pescadilla', 'emparedados', 'pinones', 'serrano', 'mejillones', 'dorado', 'restos', 'vos', 'macerada', 'york', 'freas', 'blanco', 'huevo', 'marmitako', 'f', 'apio', 'empanadas', 'pulpo', 'mero', 'bravas', 'linzertarte', 'verde', 'duro', 'tartas', 'calabacines', 'flambeados', 'pastele', 'naranja', 'china', 'endivias', 'huevos', 'chino', 'miga', 'vienesa', 'sencilla', 'rellenas', 'se', 'nata', 'lubina', 'hojas', 'jijona', 'rajas']\n",
      "423\n"
     ]
    }
   ],
   "source": [
    "## clean text into list of words ##\n",
    "def process_text(file_path):\n",
    "    with open(file_path, 'r') as file:\n",
    "        text = file.read()\n",
    "        # Extracting only words (no numbers, special characters)\n",
    "        words = re.findall(r'\\b[A-Za-z]+\\b', text)\n",
    "        # Converting words to lowercase\n",
    "        words = [word.lower() for word in words]\n",
    "        return words\n",
    "\n",
    "file_path = './NuevasAppendix.txt'  # Change this to your file path\n",
    "words_to_remove = ['a', 'con', 'la', 'al', 'y', 'el', 'de', 'o', 'en']\n",
    "word_list_nuevas = [word for word in process_text(file_path) if word not in words_to_remove]\n",
    "word_list_nuevas = list(set(word_list_nuevas))\n",
    "print(word_list_nuevas)\n",
    "print(len(word_list_nuevas))"
   ]
  },
  {
   "cell_type": "code",
   "execution_count": 3,
   "metadata": {},
   "outputs": [],
   "source": [
    "## scrape prices from grocery store ##\n",
    "# https://www.carrefour.es/ \n",
    "def scrape_all_text(url):\n",
    "    time.sleep(random.random()*5+5)\n",
    "    # Start a Chrome webdriver\n",
    "    # Create Chrome options with incognito mode\n",
    "    chrome_options = Options()\n",
    "    chrome_options.add_argument('--incognito')\n",
    "\n",
    "    driver = webdriver.Chrome(options=chrome_options)\n",
    "\n",
    "    driver.get(url)  # Open the provided URL\n",
    "    time.sleep(random.random()*2 + 4)\n",
    "    try:\n",
    "       # If there's a button with the text \"Aceptar\" (Accept), locate it and click\n",
    "        accept_button = WebDriverWait(driver, 10).until(\n",
    "            EC.element_to_be_clickable((By.XPATH, \"//button[contains(., 'Aceptar')]\"))\n",
    "        )\n",
    "        accept_button.click()\n",
    "        time.sleep(random.random()*2 + 6)\n",
    "        # Get the full page source\n",
    "        page_source = driver.page_source\n",
    "\n",
    "        # Use BeautifulSoup to parse the page source\n",
    "        soup = BeautifulSoup(page_source, 'html.parser')\n",
    "\n",
    "        # Extract all visible text\n",
    "        all_text = soup.get_text()\n",
    "\n",
    "        # process text to isolate price\n",
    "        # Find the index of € symbol\n",
    "        lower_case = all_text.lower()\n",
    "        index_of_euro = lower_case.find(search_word)\n",
    "\n",
    "\n",
    "        # Check if € symbol is found\n",
    "        if index_of_euro != -1:\n",
    "            # Remove text before € symbol\n",
    "            result_string = lower_case[index_of_euro + 1:]\n",
    "            result_string = result_string[result_string.find(\"€\"):]\n",
    "            result_string = result_string[1:result_string.find(\" \")]\n",
    "            result_string = result_string.replace(\",\", \".\")\n",
    "            print(result_string)\n",
    "\n",
    "    except:\n",
    "        result_string = 0\n",
    "        driver.quit()\n",
    "    \n",
    "    finally:\n",
    "        driver.quit()\n",
    "        try:\n",
    "            return float(result_string)\n",
    "        except:\n",
    "            return 0\n",
    "\n",
    "# Example usage:\n",
    "url = 'https://www.carrefour.es/?q='  # Replace this with the URL of the website you want to scrape\n",
    "search_word = 'cerveza'  # Replace this with the word you want to search for\n",
    "\n",
    "search_result = scrape_all_text(url+search_word)\n"
   ]
  },
  {
   "cell_type": "code",
   "execution_count": null,
   "metadata": {},
   "outputs": [],
   "source": [
    "import concurrent.futures\n",
    "\n",
    "file_path = './NuevasAppendix.txt'  # Change this to your file path\n",
    "words_to_remove = ['a', 'con', 'la', 'al', 'y', 'el', 'de', 'o', 'en']\n",
    "word_list_nuevas = [word for word in process_text(file_path) if word not in words_to_remove]\n",
    "\n",
    "def get_text_for_word(word):\n",
    "    return scrape_all_text(url + word)\n",
    "\n",
    "# Using ThreadPoolExecutor to limit the number of active threads to 10\n",
    "with concurrent.futures.ThreadPoolExecutor(max_workers=10) as executor:\n",
    "    # Submit tasks to the thread pool and get futures\n",
    "    futures = [executor.submit(get_text_for_word, word) for word in word_list_nuevas]\n",
    "\n",
    "    # Wait for all tasks to complete\n",
    "    concurrent.futures.wait(futures)\n",
    "\n",
    "    # Retrieve results\n",
    "    prices_nuevas = [future.result() for future in futures]\n",
    "\n",
    "print(prices_nuevas)"
   ]
  },
  {
   "cell_type": "code",
   "execution_count": null,
   "metadata": {},
   "outputs": [],
   "source": [
    "## get sum ##\n",
    "nuevas_no_zero = [value for value in prices_nuevas if value != 0]\n",
    "avg_nuevas = sum(prices_nuevas) / len(prices_nuevas)\n",
    "print(avg_nuevas)"
   ]
  }
 ],
 "metadata": {
  "kernelspec": {
   "display_name": "Python 3",
   "language": "python",
   "name": "python3"
  },
  "language_info": {
   "codemirror_mode": {
    "name": "ipython",
    "version": 3
   },
   "file_extension": ".py",
   "mimetype": "text/x-python",
   "name": "python",
   "nbconvert_exporter": "python",
   "pygments_lexer": "ipython3",
   "version": "3.11.2"
  }
 },
 "nbformat": 4,
 "nbformat_minor": 2
}
